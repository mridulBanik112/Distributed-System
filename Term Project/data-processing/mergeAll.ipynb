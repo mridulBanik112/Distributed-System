{
 "cells": [
  {
   "cell_type": "markdown",
   "id": "74256d39",
   "metadata": {},
   "source": [
    "# Merge svi_data,crime_data and coivd_data for each state into same csv"
   ]
  },
  {
   "cell_type": "code",
   "execution_count": 7,
   "id": "d5737013",
   "metadata": {},
   "outputs": [],
   "source": [
    "import pandas as pd\n",
    "\n",
    "state = \"iowa\"\n",
    "fileName = \"_combined.csv\"\n",
    "outputFile = state + fileName\n",
    "# reading two csv files\n",
    "data1 = pd.read_csv('Iowa_svi_data.csv')\n",
    "data2 = pd.read_csv('Iowa_crime_data_2000.csv')\n",
    "data3 = pd.read_csv('finalIO.csv')\n",
    "  \n",
    "# using merge function by setting how='inner'\n",
    "output1 = pd.merge(data1, data2, \n",
    "                   on='COUNTY', \n",
    "                   how='inner')\n",
    "output1.to_csv('combined.csv',index=False)\n",
    "data_com = pd.read_csv('combined.csv')\n",
    "output2 = pd.merge(data_com, data3, \n",
    "                   on='COUNTY', \n",
    "                   how='inner')\n",
    "output2.fillna(output2.mean())\n",
    "output2.to_csv(outputFile,index=False)"
   ]
  },
  {
   "cell_type": "code",
   "execution_count": null,
   "id": "830e1dfc",
   "metadata": {},
   "outputs": [],
   "source": []
  }
 ],
 "metadata": {
  "kernelspec": {
   "display_name": "Python 3",
   "language": "python",
   "name": "python3"
  },
  "language_info": {
   "codemirror_mode": {
    "name": "ipython",
    "version": 3
   },
   "file_extension": ".py",
   "mimetype": "text/x-python",
   "name": "python",
   "nbconvert_exporter": "python",
   "pygments_lexer": "ipython3",
   "version": "3.8.8"
  }
 },
 "nbformat": 4,
 "nbformat_minor": 5
}
