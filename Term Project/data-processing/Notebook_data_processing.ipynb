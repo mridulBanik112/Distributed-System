{
 "cells": [
  {
   "cell_type": "markdown",
   "id": "537d3f1f",
   "metadata": {},
   "source": [
    "### Reading data from json and converted to csv"
   ]
  },
  {
   "cell_type": "code",
   "execution_count": null,
   "id": "cae36bb6",
   "metadata": {},
   "outputs": [],
   "source": [
    "import json\n",
    "import csv\n",
    "# Opening JSON file\n",
    "input_file_name = 'svi_county_GISJOIN.Colorado.raw_data (1).json'\n",
    "f = open(input_file_name) # reading input file \n",
    "# returns JSON object as\n",
    "# a dictionary\n",
    "data = json.load(f)\n",
    "output_file_name = 'colorado_svi_data.csv'\n",
    "with open(output_file_name, 'w', newline='') as csvfile:\n",
    "    fieldnames = ['STATE', 'COUNTY','RPL_THEMES','Socio_Eco_RPL1', 'HouseCompDis_RPL2','MinorStat_RPL3','HouseTraonsport_RPL3']\n",
    "    writer = csv.DictWriter(csvfile, fieldnames=fieldnames)\n",
    "\n",
    "    writer.writeheader()\n",
    "    \n",
    "    for i in data:\n",
    "        writer.writerow({'STATE': i['STATE'], 'COUNTY': i['COUNTY'],'RPL_THEMES':i['RPL_THEMES'],'Socio_Eco_RPL1':i['RPL_THEME1'], 'HouseCompDis_RPL2':i['RPL_THEME2'],'MinorStat_RPL3':i['RPL_THEME3'],'HouseTraonsport_RPL3':i['RPL_THEME4']})\n",
    "        print(i['STATE'],i['COUNTY'],i['M_AGE65'])\n",
    "        print(\"=\")"
   ]
  },
  {
   "cell_type": "markdown",
   "id": "98df4781",
   "metadata": {},
   "source": [
    "# Merging svi crime and covid dataset"
   ]
  },
  {
   "cell_type": "code",
   "execution_count": 7,
   "id": "d5737013",
   "metadata": {},
   "outputs": [],
   "source": [
    "import pandas as pd\n",
    "\n",
    "state = \"iowa\"\n",
    "fileName = \"_combined.csv\"\n",
    "outputFile = state + fileName\n",
    "# reading two csv files\n",
    "data1 = pd.read_csv('Iowa_svi_data.csv')\n",
    "data2 = pd.read_csv('Iowa_crime_data_2000.csv')\n",
    "data3 = pd.read_csv('finalIO.csv')\n",
    "  \n",
    "# using merge function by setting how='inner'\n",
    "output1 = pd.merge(data1, data2, \n",
    "                   on='COUNTY', \n",
    "                   how='inner')\n",
    "output1.to_csv('combined.csv',index=False)\n",
    "data_com = pd.read_csv('combined.csv')\n",
    "output2 = pd.merge(data_com, data3, \n",
    "                   on='COUNTY', \n",
    "                   how='inner')\n",
    "output2.fillna(output2.mean())\n",
    "output2.to_csv(outputFile,index=False)"
   ]
  },
  {
   "cell_type": "markdown",
   "id": "6d042a23",
   "metadata": {},
   "source": [
    "## Function of below cell\n",
    "    ## making Total cases numneric\n",
    "    ## Copy cases2021', 'deaths2021','cases2022','deaths2022' columns with new names\n",
    "    ## normalize numeric columns\n",
    "    ## save normalized data"
   ]
  },
  {
   "cell_type": "code",
   "execution_count": 36,
   "id": "830e1dfc",
   "metadata": {},
   "outputs": [
    {
     "name": "stdout",
     "output_type": "stream",
     "text": [
      "Index(['STATE_x', 'COUNTY', 'RPL_THEMES', 'Socio_Eco_RPL1',\n",
      "       'HouseCompDis_RPL2', 'MinorStat_RPL3', 'HouseTraonsport_RPL3',\n",
      "       'STATE_y', 'TOTAL_CASES', 'STATE', 'cases2020', 'deaths2020',\n",
      "       'cases2021', 'deaths2021', 'cases2022', 'deaths2022', 'cases2021',\n",
      "       'deaths2021', 'cases2022', 'deaths2022'],\n",
      "      dtype='object')\n",
      "20\n"
     ]
    }
   ],
   "source": [
    "# displaying result\n",
    "import pandas as pd\n",
    "\n",
    "from sklearn.preprocessing import StandardScaler\n",
    "scaler = StandardScaler()\n",
    "df = pd.read_csv('iowa_combined.csv')\n",
    "df[\"TOTAL_CASES\"] = pd.to_numeric(df[\"TOTAL_CASES\"])\n",
    "df2 = df[['cases2021', 'deaths2021','cases2022','deaths2022']].copy()\n",
    "#selected_columns = df[[\"cases2020\",\"deaths2020\",\"cases2021\",\"deaths2021\"]]\n",
    "result = pd.concat([df, df2], axis=1)\n",
    "#print(result.columns)\n",
    "#result.rename(columns={result.columns[16]: 'new_dath',result.columns[17]: 'new_dath',result.columns[18]: 'new_dath'result.columns[19]: 'new_dath'},inplace=True)\n",
    "print(result.columns)\n",
    "col = result.columns.tolist()\n",
    "col[16]=\"int_cases2021\"\n",
    "col[17]=\"int_deaths2021\"\n",
    "col[18]=\"int_cases2022\"\n",
    "col[19]=\"int_deaths2022\"\n",
    "print(len(col))\n",
    "result.columns = col\n",
    "#df[\"TOTAL_CASES\"] = df[\"TOTAL_CASES\"].astype(int)\n",
    "#df.iloc[:,2:] = scaler.fit_transform(df.iloc[:,2:].to_numpy())\n",
    "#cols2exclude = ['STATE_x', 'COUNTY', 'STATE_y']\n",
    "#df.loc[:, df.columns.difference(df.columns[cols2exclude])] =  scaler.fit_transform(df.loc[:, df.columns.difference(df.columns[cols2exclude])].to_numpy())\n",
    "result.loc[:, ~result.columns.isin(['STATE_x', 'COUNTY', 'STATE_y','STATE','int_cases2022','int_deaths2022','int_cases2021','int_deaths2021'])] = scaler.fit_transform(result.loc[:, ~result.columns.isin(['STATE_x', 'COUNTY', 'STATE_y','STATE','int_cases2022','int_deaths2022','int_cases2021','int_deaths2021'])].to_numpy())\n",
    "result.to_csv('iowa_combined_norm.csv',index=False)"
   ]
  },
  {
   "cell_type": "code",
   "execution_count": 37,
   "id": "940e2543",
   "metadata": {},
   "outputs": [
    {
     "name": "stdout",
     "output_type": "stream",
     "text": [
      "Index(['STATE_x', 'COUNTY', 'RPL_THEMES', 'Socio_Eco_RPL1',\n",
      "       'HouseCompDis_RPL2', 'MinorStat_RPL3', 'HouseTraonsport_RPL3',\n",
      "       'STATE_y', 'TOTAL_CASES', 'STATE', 'cases2020', 'deaths2020',\n",
      "       'cases2021', 'deaths2021', 'cases2022', 'deaths2022', 'cases2021',\n",
      "       'deaths2021', 'cases2022', 'deaths2022'],\n",
      "      dtype='object')\n",
      "20\n"
     ]
    }
   ],
   "source": [
    "# displaying result\n",
    "import pandas as pd\n",
    "\n",
    "from sklearn.preprocessing import Normalizer\n",
    "scaler = Normalizer()\n",
    "df = pd.read_csv('iowa_combined.csv')\n",
    "df[\"TOTAL_CASES\"] = pd.to_numeric(df[\"TOTAL_CASES\"])\n",
    "df2 = df[['cases2021', 'deaths2021','cases2022','deaths2022']].copy()\n",
    "#selected_columns = df[[\"cases2020\",\"deaths2020\",\"cases2021\",\"deaths2021\"]]\n",
    "result = pd.concat([df, df2], axis=1)\n",
    "#print(result.columns)\n",
    "#result.rename(columns={result.columns[16]: 'new_dath',result.columns[17]: 'new_dath',result.columns[18]: 'new_dath'result.columns[19]: 'new_dath'},inplace=True)\n",
    "print(result.columns)\n",
    "col = result.columns.tolist()\n",
    "col[16]=\"int_cases2021\"\n",
    "col[17]=\"int_deaths2021\"\n",
    "col[18]=\"int_cases2022\"\n",
    "col[19]=\"int_deaths2022\"\n",
    "print(len(col))\n",
    "result.columns = col\n",
    "#df[\"TOTAL_CASES\"] = df[\"TOTAL_CASES\"].astype(int)\n",
    "#df.iloc[:,2:] = scaler.fit_transform(df.iloc[:,2:].to_numpy())\n",
    "#cols2exclude = ['STATE_x', 'COUNTY', 'STATE_y']\n",
    "#df.loc[:, df.columns.difference(df.columns[cols2exclude])] =  scaler.fit_transform(df.loc[:, df.columns.difference(df.columns[cols2exclude])].to_numpy())\n",
    "result.loc[:, ~result.columns.isin(['STATE_x', 'COUNTY', 'STATE_y','STATE','int_cases2022','int_deaths2022','int_cases2021','int_deaths2021'])] = scaler.fit_transform(result.loc[:, ~result.columns.isin(['STATE_x', 'COUNTY', 'STATE_y','STATE','int_cases2022','int_deaths2022','int_cases2021','int_deaths2021'])].to_numpy())\n",
    "result.to_csv('iowa_combined_norm_norm.csv',index=False)"
   ]
  },
  {
   "cell_type": "code",
   "execution_count": null,
   "id": "65ac5efc",
   "metadata": {},
   "outputs": [],
   "source": []
  }
 ],
 "metadata": {
  "kernelspec": {
   "display_name": "Python 3",
   "language": "python",
   "name": "python3"
  },
  "language_info": {
   "codemirror_mode": {
    "name": "ipython",
    "version": 3
   },
   "file_extension": ".py",
   "mimetype": "text/x-python",
   "name": "python",
   "nbconvert_exporter": "python",
   "pygments_lexer": "ipython3",
   "version": "3.8.8"
  }
 },
 "nbformat": 4,
 "nbformat_minor": 5
}
